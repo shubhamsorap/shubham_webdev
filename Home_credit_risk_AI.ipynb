{
  "nbformat": 4,
  "nbformat_minor": 0,
  "metadata": {
    "colab": {
      "name": "Home_credit_risk_AI.ipynb",
      "provenance": [],
      "collapsed_sections": [],
      "authorship_tag": "ABX9TyNit5ogEni5McZzcvIG+9/6",
      "include_colab_link": true
    },
    "kernelspec": {
      "name": "python3",
      "display_name": "Python 3"
    }
  },
  "cells": [
    {
      "cell_type": "markdown",
      "metadata": {
        "id": "view-in-github",
        "colab_type": "text"
      },
      "source": [
        "<a href=\"https://colab.research.google.com/github/shubhamsorap/shubham_webdev/blob/master/Home_credit_risk_AI.ipynb\" target=\"_parent\"><img src=\"https://colab.research.google.com/assets/colab-badge.svg\" alt=\"Open In Colab\"/></a>"
      ]
    },
    {
      "cell_type": "code",
      "metadata": {
        "id": "MXNpbx6Buub5",
        "colab_type": "code",
        "colab": {
          "base_uri": "https://localhost:8080/",
          "height": 35
        },
        "outputId": "e6a29e65-5a3c-40bf-d82c-3e9a6a71d7f0"
      },
      "source": [
        "  from google.colab import drive\n",
        "  drive.mount('/content/gdrive')"
      ],
      "execution_count": 1,
      "outputs": [
        {
          "output_type": "stream",
          "text": [
            "Drive already mounted at /content/gdrive; to attempt to forcibly remount, call drive.mount(\"/content/gdrive\", force_remount=True).\n"
          ],
          "name": "stdout"
        }
      ]
    },
    {
      "cell_type": "code",
      "metadata": {
        "id": "KMgo-7tDvXVp",
        "colab_type": "code",
        "colab": {}
      },
      "source": [
        "import os\n",
        "os.environ['KAGGLE_CONFIG_DIR'] = \"/content/gdrive/My Drive/kaggle\"\n",
        "# /content/gdrive/My Drive/Kaggle is the path where kaggle.json is present in the Google Drive"
      ],
      "execution_count": 2,
      "outputs": []
    },
    {
      "cell_type": "code",
      "metadata": {
        "id": "FZzhPYmAvq9w",
        "colab_type": "code",
        "colab": {
          "base_uri": "https://localhost:8080/",
          "height": 35
        },
        "outputId": "b7de48b4-5d4f-45fe-ffb9-91efb7c9c2ec"
      },
      "source": [
        "#changing the working directory\n",
        "%cd /content/gdrive/My Drive/kaggle\n",
        "#Check the present working directory using pwd command"
      ],
      "execution_count": 3,
      "outputs": [
        {
          "output_type": "stream",
          "text": [
            "/content/gdrive/My Drive/kaggle\n"
          ],
          "name": "stdout"
        }
      ]
    },
    {
      "cell_type": "code",
      "metadata": {
        "id": "O0_UyLL_vvns",
        "colab_type": "code",
        "colab": {
          "base_uri": "https://localhost:8080/",
          "height": 492
        },
        "outputId": "2c2b33d7-fd12-4a16-b707-b8c71f17b36c"
      },
      "source": [
        "!kaggle competitions download -c home-credit-default-risk"
      ],
      "execution_count": 4,
      "outputs": [
        {
          "output_type": "stream",
          "text": [
            "Warning: Looks like you're using an outdated API Version, please consider updating (server 1.5.6 / client 1.5.4)\n",
            "HomeCredit_columns_description.csv: Skipping, found more recently modified local copy (use --force to force download)\n",
            "Downloading bureau.csv.zip to /content/gdrive/My Drive/kaggle\n",
            " 65% 24.0M/36.8M [00:00<00:00, 107MB/s] \n",
            "100% 36.8M/36.8M [00:00<00:00, 123MB/s]\n",
            "Downloading credit_card_balance.csv.zip to /content/gdrive/My Drive/kaggle\n",
            " 91% 88.0M/96.7M [00:00<00:00, 97.4MB/s]\n",
            "100% 96.7M/96.7M [00:00<00:00, 116MB/s] \n",
            "Downloading bureau_balance.csv.zip to /content/gdrive/My Drive/kaggle\n",
            " 86% 49.0M/56.8M [00:00<00:00, 104MB/s] \n",
            "100% 56.8M/56.8M [00:00<00:00, 116MB/s]\n",
            "Downloading installments_payments.csv.zip to /content/gdrive/My Drive/kaggle\n",
            " 96% 259M/271M [00:02<00:00, 126MB/s]\n",
            "100% 271M/271M [00:02<00:00, 106MB/s]\n",
            "Downloading application_test.csv.zip to /content/gdrive/My Drive/kaggle\n",
            "  0% 0.00/5.81M [00:00<?, ?B/s]\n",
            "100% 5.81M/5.81M [00:00<00:00, 53.2MB/s]\n",
            "Downloading POS_CASH_balance.csv.zip to /content/gdrive/My Drive/kaggle\n",
            " 98% 106M/109M [00:02<00:00, 51.7MB/s] \n",
            "100% 109M/109M [00:02<00:00, 45.2MB/s]\n",
            "Downloading application_train.csv.zip to /content/gdrive/My Drive/kaggle\n",
            " 83% 30.0M/36.1M [00:00<00:00, 89.2MB/s]\n",
            "100% 36.1M/36.1M [00:00<00:00, 91.1MB/s]\n",
            "sample_submission.csv: Skipping, found more recently modified local copy (use --force to force download)\n",
            "Downloading previous_application.csv.zip to /content/gdrive/My Drive/kaggle\n",
            " 98% 75.0M/76.3M [00:00<00:00, 107MB/s] \n",
            "100% 76.3M/76.3M [00:00<00:00, 112MB/s]\n"
          ],
          "name": "stdout"
        }
      ]
    },
    {
      "cell_type": "code",
      "metadata": {
        "id": "fhb9Jba01FbU",
        "colab_type": "code",
        "colab": {
          "base_uri": "https://localhost:8080/",
          "height": 457
        },
        "outputId": "5e70418c-9055-4ef9-8f70-01841702bc44"
      },
      "source": [
        "#unzipping the zip files and deleting the zip files\n",
        "!unzip \\*.zip  && rm *.zip"
      ],
      "execution_count": 5,
      "outputs": [
        {
          "output_type": "stream",
          "text": [
            "Archive:  bureau.csv.zip\n",
            "replace bureau.csv? [y]es, [n]o, [A]ll, [N]one, [r]ename: n\n",
            "\n",
            "Archive:  credit_card_balance.csv.zip\n",
            "replace credit_card_balance.csv? [y]es, [n]o, [A]ll, [N]one, [r]ename: n\n",
            "\n",
            "Archive:  bureau_balance.csv.zip\n",
            "replace bureau_balance.csv? [y]es, [n]o, [A]ll, [N]one, [r]ename: n\n",
            "\n",
            "Archive:  installments_payments.csv.zip\n",
            "replace installments_payments.csv? [y]es, [n]o, [A]ll, [N]one, [r]ename: n\n",
            "\n",
            "Archive:  application_test.csv.zip\n",
            "replace application_test.csv? [y]es, [n]o, [A]ll, [N]one, [r]ename: n\n",
            "\n",
            "Archive:  POS_CASH_balance.csv.zip\n",
            "replace POS_CASH_balance.csv? [y]es, [n]o, [A]ll, [N]one, [r]ename: n\n",
            "\n",
            "Archive:  application_train.csv.zip\n",
            "replace application_train.csv? [y]es, [n]o, [A]ll, [N]one, [r]ename: n\n",
            "\n",
            "Archive:  previous_application.csv.zip\n",
            "replace previous_application.csv? [y]es, [n]o, [A]ll, [N]one, [r]ename: n\n",
            "\n",
            "8 archives were successfully processed.\n"
          ],
          "name": "stdout"
        }
      ]
    },
    {
      "cell_type": "code",
      "metadata": {
        "id": "ouLsM1MT2zHX",
        "colab_type": "code",
        "colab": {}
      },
      "source": [
        "import pandas as pd"
      ],
      "execution_count": 6,
      "outputs": []
    },
    {
      "cell_type": "code",
      "metadata": {
        "id": "_vpoF4t047En",
        "colab_type": "code",
        "colab": {}
      },
      "source": [
        "Data1 = pd.read_csv(\"bureau_balance.csv\")\n",
        "Data2 = pd.read_csv(\"installments_payments.csv\")\n",
        "Data3 = pd.read_csv(\"bureau.csv\")\n",
        "Data4 = pd.read_csv(\"credit_card_balance.csv\")\n",
        "Data5 = pd.read_csv(\"application_test.csv\")\n",
        "Data6 = pd.read_csv(\"POS_CASH_balance.csv\")\n",
        "Data7 = pd.read_csv(\"application_train.csv\")\n",
        "Data8 = pd.read_csv(\"previous_application.csv\")\n"
      ],
      "execution_count": 7,
      "outputs": []
    },
    {
      "cell_type": "code",
      "metadata": {
        "id": "K6aB90da5qne",
        "colab_type": "code",
        "colab": {
          "base_uri": "https://localhost:8080/",
          "height": 203
        },
        "outputId": "eea6d3ec-4fdc-492a-d77f-a610be5f850e"
      },
      "source": [
        "Data1.head()"
      ],
      "execution_count": 8,
      "outputs": [
        {
          "output_type": "execute_result",
          "data": {
            "text/html": [
              "<div>\n",
              "<style scoped>\n",
              "    .dataframe tbody tr th:only-of-type {\n",
              "        vertical-align: middle;\n",
              "    }\n",
              "\n",
              "    .dataframe tbody tr th {\n",
              "        vertical-align: top;\n",
              "    }\n",
              "\n",
              "    .dataframe thead th {\n",
              "        text-align: right;\n",
              "    }\n",
              "</style>\n",
              "<table border=\"1\" class=\"dataframe\">\n",
              "  <thead>\n",
              "    <tr style=\"text-align: right;\">\n",
              "      <th></th>\n",
              "      <th>SK_ID_BUREAU</th>\n",
              "      <th>MONTHS_BALANCE</th>\n",
              "      <th>STATUS</th>\n",
              "    </tr>\n",
              "  </thead>\n",
              "  <tbody>\n",
              "    <tr>\n",
              "      <th>0</th>\n",
              "      <td>5715448</td>\n",
              "      <td>0</td>\n",
              "      <td>C</td>\n",
              "    </tr>\n",
              "    <tr>\n",
              "      <th>1</th>\n",
              "      <td>5715448</td>\n",
              "      <td>-1</td>\n",
              "      <td>C</td>\n",
              "    </tr>\n",
              "    <tr>\n",
              "      <th>2</th>\n",
              "      <td>5715448</td>\n",
              "      <td>-2</td>\n",
              "      <td>C</td>\n",
              "    </tr>\n",
              "    <tr>\n",
              "      <th>3</th>\n",
              "      <td>5715448</td>\n",
              "      <td>-3</td>\n",
              "      <td>C</td>\n",
              "    </tr>\n",
              "    <tr>\n",
              "      <th>4</th>\n",
              "      <td>5715448</td>\n",
              "      <td>-4</td>\n",
              "      <td>C</td>\n",
              "    </tr>\n",
              "  </tbody>\n",
              "</table>\n",
              "</div>"
            ],
            "text/plain": [
              "   SK_ID_BUREAU  MONTHS_BALANCE STATUS\n",
              "0       5715448               0      C\n",
              "1       5715448              -1      C\n",
              "2       5715448              -2      C\n",
              "3       5715448              -3      C\n",
              "4       5715448              -4      C"
            ]
          },
          "metadata": {
            "tags": []
          },
          "execution_count": 8
        }
      ]
    },
    {
      "cell_type": "code",
      "metadata": {
        "id": "UCvh3fEa6Mk4",
        "colab_type": "code",
        "colab": {
          "base_uri": "https://localhost:8080/",
          "height": 203
        },
        "outputId": "199881fe-c014-4dd7-c4d7-51c793a0efc9"
      },
      "source": [
        "Data2.head()"
      ],
      "execution_count": 9,
      "outputs": [
        {
          "output_type": "execute_result",
          "data": {
            "text/html": [
              "<div>\n",
              "<style scoped>\n",
              "    .dataframe tbody tr th:only-of-type {\n",
              "        vertical-align: middle;\n",
              "    }\n",
              "\n",
              "    .dataframe tbody tr th {\n",
              "        vertical-align: top;\n",
              "    }\n",
              "\n",
              "    .dataframe thead th {\n",
              "        text-align: right;\n",
              "    }\n",
              "</style>\n",
              "<table border=\"1\" class=\"dataframe\">\n",
              "  <thead>\n",
              "    <tr style=\"text-align: right;\">\n",
              "      <th></th>\n",
              "      <th>SK_ID_PREV</th>\n",
              "      <th>SK_ID_CURR</th>\n",
              "      <th>NUM_INSTALMENT_VERSION</th>\n",
              "      <th>NUM_INSTALMENT_NUMBER</th>\n",
              "      <th>DAYS_INSTALMENT</th>\n",
              "      <th>DAYS_ENTRY_PAYMENT</th>\n",
              "      <th>AMT_INSTALMENT</th>\n",
              "      <th>AMT_PAYMENT</th>\n",
              "    </tr>\n",
              "  </thead>\n",
              "  <tbody>\n",
              "    <tr>\n",
              "      <th>0</th>\n",
              "      <td>1054186</td>\n",
              "      <td>161674</td>\n",
              "      <td>1.0</td>\n",
              "      <td>6</td>\n",
              "      <td>-1180.0</td>\n",
              "      <td>-1187.0</td>\n",
              "      <td>6948.360</td>\n",
              "      <td>6948.360</td>\n",
              "    </tr>\n",
              "    <tr>\n",
              "      <th>1</th>\n",
              "      <td>1330831</td>\n",
              "      <td>151639</td>\n",
              "      <td>0.0</td>\n",
              "      <td>34</td>\n",
              "      <td>-2156.0</td>\n",
              "      <td>-2156.0</td>\n",
              "      <td>1716.525</td>\n",
              "      <td>1716.525</td>\n",
              "    </tr>\n",
              "    <tr>\n",
              "      <th>2</th>\n",
              "      <td>2085231</td>\n",
              "      <td>193053</td>\n",
              "      <td>2.0</td>\n",
              "      <td>1</td>\n",
              "      <td>-63.0</td>\n",
              "      <td>-63.0</td>\n",
              "      <td>25425.000</td>\n",
              "      <td>25425.000</td>\n",
              "    </tr>\n",
              "    <tr>\n",
              "      <th>3</th>\n",
              "      <td>2452527</td>\n",
              "      <td>199697</td>\n",
              "      <td>1.0</td>\n",
              "      <td>3</td>\n",
              "      <td>-2418.0</td>\n",
              "      <td>-2426.0</td>\n",
              "      <td>24350.130</td>\n",
              "      <td>24350.130</td>\n",
              "    </tr>\n",
              "    <tr>\n",
              "      <th>4</th>\n",
              "      <td>2714724</td>\n",
              "      <td>167756</td>\n",
              "      <td>1.0</td>\n",
              "      <td>2</td>\n",
              "      <td>-1383.0</td>\n",
              "      <td>-1366.0</td>\n",
              "      <td>2165.040</td>\n",
              "      <td>2160.585</td>\n",
              "    </tr>\n",
              "  </tbody>\n",
              "</table>\n",
              "</div>"
            ],
            "text/plain": [
              "   SK_ID_PREV  SK_ID_CURR  ...  AMT_INSTALMENT  AMT_PAYMENT\n",
              "0     1054186      161674  ...        6948.360     6948.360\n",
              "1     1330831      151639  ...        1716.525     1716.525\n",
              "2     2085231      193053  ...       25425.000    25425.000\n",
              "3     2452527      199697  ...       24350.130    24350.130\n",
              "4     2714724      167756  ...        2165.040     2160.585\n",
              "\n",
              "[5 rows x 8 columns]"
            ]
          },
          "metadata": {
            "tags": []
          },
          "execution_count": 9
        }
      ]
    },
    {
      "cell_type": "code",
      "metadata": {
        "id": "ZbxSSoxO76KZ",
        "colab_type": "code",
        "colab": {
          "base_uri": "https://localhost:8080/",
          "height": 291
        },
        "outputId": "916aa6a4-572a-4c03-ff6a-c99ec970d397"
      },
      "source": [
        "Data8.head()"
      ],
      "execution_count": 10,
      "outputs": [
        {
          "output_type": "execute_result",
          "data": {
            "text/html": [
              "<div>\n",
              "<style scoped>\n",
              "    .dataframe tbody tr th:only-of-type {\n",
              "        vertical-align: middle;\n",
              "    }\n",
              "\n",
              "    .dataframe tbody tr th {\n",
              "        vertical-align: top;\n",
              "    }\n",
              "\n",
              "    .dataframe thead th {\n",
              "        text-align: right;\n",
              "    }\n",
              "</style>\n",
              "<table border=\"1\" class=\"dataframe\">\n",
              "  <thead>\n",
              "    <tr style=\"text-align: right;\">\n",
              "      <th></th>\n",
              "      <th>SK_ID_PREV</th>\n",
              "      <th>SK_ID_CURR</th>\n",
              "      <th>NAME_CONTRACT_TYPE</th>\n",
              "      <th>AMT_ANNUITY</th>\n",
              "      <th>AMT_APPLICATION</th>\n",
              "      <th>AMT_CREDIT</th>\n",
              "      <th>AMT_DOWN_PAYMENT</th>\n",
              "      <th>AMT_GOODS_PRICE</th>\n",
              "      <th>WEEKDAY_APPR_PROCESS_START</th>\n",
              "      <th>HOUR_APPR_PROCESS_START</th>\n",
              "      <th>FLAG_LAST_APPL_PER_CONTRACT</th>\n",
              "      <th>NFLAG_LAST_APPL_IN_DAY</th>\n",
              "      <th>RATE_DOWN_PAYMENT</th>\n",
              "      <th>RATE_INTEREST_PRIMARY</th>\n",
              "      <th>RATE_INTEREST_PRIVILEGED</th>\n",
              "      <th>NAME_CASH_LOAN_PURPOSE</th>\n",
              "      <th>NAME_CONTRACT_STATUS</th>\n",
              "      <th>DAYS_DECISION</th>\n",
              "      <th>NAME_PAYMENT_TYPE</th>\n",
              "      <th>CODE_REJECT_REASON</th>\n",
              "      <th>NAME_TYPE_SUITE</th>\n",
              "      <th>NAME_CLIENT_TYPE</th>\n",
              "      <th>NAME_GOODS_CATEGORY</th>\n",
              "      <th>NAME_PORTFOLIO</th>\n",
              "      <th>NAME_PRODUCT_TYPE</th>\n",
              "      <th>CHANNEL_TYPE</th>\n",
              "      <th>SELLERPLACE_AREA</th>\n",
              "      <th>NAME_SELLER_INDUSTRY</th>\n",
              "      <th>CNT_PAYMENT</th>\n",
              "      <th>NAME_YIELD_GROUP</th>\n",
              "      <th>PRODUCT_COMBINATION</th>\n",
              "      <th>DAYS_FIRST_DRAWING</th>\n",
              "      <th>DAYS_FIRST_DUE</th>\n",
              "      <th>DAYS_LAST_DUE_1ST_VERSION</th>\n",
              "      <th>DAYS_LAST_DUE</th>\n",
              "      <th>DAYS_TERMINATION</th>\n",
              "      <th>NFLAG_INSURED_ON_APPROVAL</th>\n",
              "    </tr>\n",
              "  </thead>\n",
              "  <tbody>\n",
              "    <tr>\n",
              "      <th>0</th>\n",
              "      <td>2030495</td>\n",
              "      <td>271877</td>\n",
              "      <td>Consumer loans</td>\n",
              "      <td>1730.430</td>\n",
              "      <td>17145.0</td>\n",
              "      <td>17145.0</td>\n",
              "      <td>0.0</td>\n",
              "      <td>17145.0</td>\n",
              "      <td>SATURDAY</td>\n",
              "      <td>15</td>\n",
              "      <td>Y</td>\n",
              "      <td>1</td>\n",
              "      <td>0.0</td>\n",
              "      <td>0.182832</td>\n",
              "      <td>0.867336</td>\n",
              "      <td>XAP</td>\n",
              "      <td>Approved</td>\n",
              "      <td>-73</td>\n",
              "      <td>Cash through the bank</td>\n",
              "      <td>XAP</td>\n",
              "      <td>NaN</td>\n",
              "      <td>Repeater</td>\n",
              "      <td>Mobile</td>\n",
              "      <td>POS</td>\n",
              "      <td>XNA</td>\n",
              "      <td>Country-wide</td>\n",
              "      <td>35</td>\n",
              "      <td>Connectivity</td>\n",
              "      <td>12.0</td>\n",
              "      <td>middle</td>\n",
              "      <td>POS mobile with interest</td>\n",
              "      <td>365243.0</td>\n",
              "      <td>-42.0</td>\n",
              "      <td>300.0</td>\n",
              "      <td>-42.0</td>\n",
              "      <td>-37.0</td>\n",
              "      <td>0.0</td>\n",
              "    </tr>\n",
              "    <tr>\n",
              "      <th>1</th>\n",
              "      <td>2802425</td>\n",
              "      <td>108129</td>\n",
              "      <td>Cash loans</td>\n",
              "      <td>25188.615</td>\n",
              "      <td>607500.0</td>\n",
              "      <td>679671.0</td>\n",
              "      <td>NaN</td>\n",
              "      <td>607500.0</td>\n",
              "      <td>THURSDAY</td>\n",
              "      <td>11</td>\n",
              "      <td>Y</td>\n",
              "      <td>1</td>\n",
              "      <td>NaN</td>\n",
              "      <td>NaN</td>\n",
              "      <td>NaN</td>\n",
              "      <td>XNA</td>\n",
              "      <td>Approved</td>\n",
              "      <td>-164</td>\n",
              "      <td>XNA</td>\n",
              "      <td>XAP</td>\n",
              "      <td>Unaccompanied</td>\n",
              "      <td>Repeater</td>\n",
              "      <td>XNA</td>\n",
              "      <td>Cash</td>\n",
              "      <td>x-sell</td>\n",
              "      <td>Contact center</td>\n",
              "      <td>-1</td>\n",
              "      <td>XNA</td>\n",
              "      <td>36.0</td>\n",
              "      <td>low_action</td>\n",
              "      <td>Cash X-Sell: low</td>\n",
              "      <td>365243.0</td>\n",
              "      <td>-134.0</td>\n",
              "      <td>916.0</td>\n",
              "      <td>365243.0</td>\n",
              "      <td>365243.0</td>\n",
              "      <td>1.0</td>\n",
              "    </tr>\n",
              "    <tr>\n",
              "      <th>2</th>\n",
              "      <td>2523466</td>\n",
              "      <td>122040</td>\n",
              "      <td>Cash loans</td>\n",
              "      <td>15060.735</td>\n",
              "      <td>112500.0</td>\n",
              "      <td>136444.5</td>\n",
              "      <td>NaN</td>\n",
              "      <td>112500.0</td>\n",
              "      <td>TUESDAY</td>\n",
              "      <td>11</td>\n",
              "      <td>Y</td>\n",
              "      <td>1</td>\n",
              "      <td>NaN</td>\n",
              "      <td>NaN</td>\n",
              "      <td>NaN</td>\n",
              "      <td>XNA</td>\n",
              "      <td>Approved</td>\n",
              "      <td>-301</td>\n",
              "      <td>Cash through the bank</td>\n",
              "      <td>XAP</td>\n",
              "      <td>Spouse, partner</td>\n",
              "      <td>Repeater</td>\n",
              "      <td>XNA</td>\n",
              "      <td>Cash</td>\n",
              "      <td>x-sell</td>\n",
              "      <td>Credit and cash offices</td>\n",
              "      <td>-1</td>\n",
              "      <td>XNA</td>\n",
              "      <td>12.0</td>\n",
              "      <td>high</td>\n",
              "      <td>Cash X-Sell: high</td>\n",
              "      <td>365243.0</td>\n",
              "      <td>-271.0</td>\n",
              "      <td>59.0</td>\n",
              "      <td>365243.0</td>\n",
              "      <td>365243.0</td>\n",
              "      <td>1.0</td>\n",
              "    </tr>\n",
              "    <tr>\n",
              "      <th>3</th>\n",
              "      <td>2819243</td>\n",
              "      <td>176158</td>\n",
              "      <td>Cash loans</td>\n",
              "      <td>47041.335</td>\n",
              "      <td>450000.0</td>\n",
              "      <td>470790.0</td>\n",
              "      <td>NaN</td>\n",
              "      <td>450000.0</td>\n",
              "      <td>MONDAY</td>\n",
              "      <td>7</td>\n",
              "      <td>Y</td>\n",
              "      <td>1</td>\n",
              "      <td>NaN</td>\n",
              "      <td>NaN</td>\n",
              "      <td>NaN</td>\n",
              "      <td>XNA</td>\n",
              "      <td>Approved</td>\n",
              "      <td>-512</td>\n",
              "      <td>Cash through the bank</td>\n",
              "      <td>XAP</td>\n",
              "      <td>NaN</td>\n",
              "      <td>Repeater</td>\n",
              "      <td>XNA</td>\n",
              "      <td>Cash</td>\n",
              "      <td>x-sell</td>\n",
              "      <td>Credit and cash offices</td>\n",
              "      <td>-1</td>\n",
              "      <td>XNA</td>\n",
              "      <td>12.0</td>\n",
              "      <td>middle</td>\n",
              "      <td>Cash X-Sell: middle</td>\n",
              "      <td>365243.0</td>\n",
              "      <td>-482.0</td>\n",
              "      <td>-152.0</td>\n",
              "      <td>-182.0</td>\n",
              "      <td>-177.0</td>\n",
              "      <td>1.0</td>\n",
              "    </tr>\n",
              "    <tr>\n",
              "      <th>4</th>\n",
              "      <td>1784265</td>\n",
              "      <td>202054</td>\n",
              "      <td>Cash loans</td>\n",
              "      <td>31924.395</td>\n",
              "      <td>337500.0</td>\n",
              "      <td>404055.0</td>\n",
              "      <td>NaN</td>\n",
              "      <td>337500.0</td>\n",
              "      <td>THURSDAY</td>\n",
              "      <td>9</td>\n",
              "      <td>Y</td>\n",
              "      <td>1</td>\n",
              "      <td>NaN</td>\n",
              "      <td>NaN</td>\n",
              "      <td>NaN</td>\n",
              "      <td>Repairs</td>\n",
              "      <td>Refused</td>\n",
              "      <td>-781</td>\n",
              "      <td>Cash through the bank</td>\n",
              "      <td>HC</td>\n",
              "      <td>NaN</td>\n",
              "      <td>Repeater</td>\n",
              "      <td>XNA</td>\n",
              "      <td>Cash</td>\n",
              "      <td>walk-in</td>\n",
              "      <td>Credit and cash offices</td>\n",
              "      <td>-1</td>\n",
              "      <td>XNA</td>\n",
              "      <td>24.0</td>\n",
              "      <td>high</td>\n",
              "      <td>Cash Street: high</td>\n",
              "      <td>NaN</td>\n",
              "      <td>NaN</td>\n",
              "      <td>NaN</td>\n",
              "      <td>NaN</td>\n",
              "      <td>NaN</td>\n",
              "      <td>NaN</td>\n",
              "    </tr>\n",
              "  </tbody>\n",
              "</table>\n",
              "</div>"
            ],
            "text/plain": [
              "   SK_ID_PREV  SK_ID_CURR  ... DAYS_TERMINATION  NFLAG_INSURED_ON_APPROVAL\n",
              "0     2030495      271877  ...            -37.0                        0.0\n",
              "1     2802425      108129  ...         365243.0                        1.0\n",
              "2     2523466      122040  ...         365243.0                        1.0\n",
              "3     2819243      176158  ...           -177.0                        1.0\n",
              "4     1784265      202054  ...              NaN                        NaN\n",
              "\n",
              "[5 rows x 37 columns]"
            ]
          },
          "metadata": {
            "tags": []
          },
          "execution_count": 10
        }
      ]
    },
    {
      "cell_type": "code",
      "metadata": {
        "id": "CVV1r4eC79UZ",
        "colab_type": "code",
        "colab": {}
      },
      "source": [
        "#Merge1 = pd.merge(train2,train4,on='SK_ID_PREV',how='left')"
      ],
      "execution_count": 11,
      "outputs": []
    },
    {
      "cell_type": "code",
      "metadata": {
        "id": "xOefCiOQ-D4K",
        "colab_type": "code",
        "colab": {
          "base_uri": "https://localhost:8080/",
          "height": 686
        },
        "outputId": "a04eb266-ad77-4eb8-a9b2-203ef3a9263b"
      },
      "source": [
        "Data8.isnull().sum()"
      ],
      "execution_count": 12,
      "outputs": [
        {
          "output_type": "execute_result",
          "data": {
            "text/plain": [
              "SK_ID_PREV                           0\n",
              "SK_ID_CURR                           0\n",
              "NAME_CONTRACT_TYPE                   0\n",
              "AMT_ANNUITY                     372235\n",
              "AMT_APPLICATION                      0\n",
              "AMT_CREDIT                           1\n",
              "AMT_DOWN_PAYMENT                895844\n",
              "AMT_GOODS_PRICE                 385515\n",
              "WEEKDAY_APPR_PROCESS_START           0\n",
              "HOUR_APPR_PROCESS_START              0\n",
              "FLAG_LAST_APPL_PER_CONTRACT          0\n",
              "NFLAG_LAST_APPL_IN_DAY               0\n",
              "RATE_DOWN_PAYMENT               895844\n",
              "RATE_INTEREST_PRIMARY          1664263\n",
              "RATE_INTEREST_PRIVILEGED       1664263\n",
              "NAME_CASH_LOAN_PURPOSE               0\n",
              "NAME_CONTRACT_STATUS                 0\n",
              "DAYS_DECISION                        0\n",
              "NAME_PAYMENT_TYPE                    0\n",
              "CODE_REJECT_REASON                   0\n",
              "NAME_TYPE_SUITE                 820405\n",
              "NAME_CLIENT_TYPE                     0\n",
              "NAME_GOODS_CATEGORY                  0\n",
              "NAME_PORTFOLIO                       0\n",
              "NAME_PRODUCT_TYPE                    0\n",
              "CHANNEL_TYPE                         0\n",
              "SELLERPLACE_AREA                     0\n",
              "NAME_SELLER_INDUSTRY                 0\n",
              "CNT_PAYMENT                     372230\n",
              "NAME_YIELD_GROUP                     0\n",
              "PRODUCT_COMBINATION                346\n",
              "DAYS_FIRST_DRAWING              673065\n",
              "DAYS_FIRST_DUE                  673065\n",
              "DAYS_LAST_DUE_1ST_VERSION       673065\n",
              "DAYS_LAST_DUE                   673065\n",
              "DAYS_TERMINATION                673065\n",
              "NFLAG_INSURED_ON_APPROVAL       673065\n",
              "dtype: int64"
            ]
          },
          "metadata": {
            "tags": []
          },
          "execution_count": 12
        }
      ]
    },
    {
      "cell_type": "code",
      "metadata": {
        "id": "QR0GMUHSXmyi",
        "colab_type": "code",
        "colab": {
          "base_uri": "https://localhost:8080/",
          "height": 686
        },
        "outputId": "a78f2546-b1a6-4807-f537-94285729ab9e"
      },
      "source": [
        "Data8.dtypes"
      ],
      "execution_count": 13,
      "outputs": [
        {
          "output_type": "execute_result",
          "data": {
            "text/plain": [
              "SK_ID_PREV                       int64\n",
              "SK_ID_CURR                       int64\n",
              "NAME_CONTRACT_TYPE              object\n",
              "AMT_ANNUITY                    float64\n",
              "AMT_APPLICATION                float64\n",
              "AMT_CREDIT                     float64\n",
              "AMT_DOWN_PAYMENT               float64\n",
              "AMT_GOODS_PRICE                float64\n",
              "WEEKDAY_APPR_PROCESS_START      object\n",
              "HOUR_APPR_PROCESS_START          int64\n",
              "FLAG_LAST_APPL_PER_CONTRACT     object\n",
              "NFLAG_LAST_APPL_IN_DAY           int64\n",
              "RATE_DOWN_PAYMENT              float64\n",
              "RATE_INTEREST_PRIMARY          float64\n",
              "RATE_INTEREST_PRIVILEGED       float64\n",
              "NAME_CASH_LOAN_PURPOSE          object\n",
              "NAME_CONTRACT_STATUS            object\n",
              "DAYS_DECISION                    int64\n",
              "NAME_PAYMENT_TYPE               object\n",
              "CODE_REJECT_REASON              object\n",
              "NAME_TYPE_SUITE                 object\n",
              "NAME_CLIENT_TYPE                object\n",
              "NAME_GOODS_CATEGORY             object\n",
              "NAME_PORTFOLIO                  object\n",
              "NAME_PRODUCT_TYPE               object\n",
              "CHANNEL_TYPE                    object\n",
              "SELLERPLACE_AREA                 int64\n",
              "NAME_SELLER_INDUSTRY            object\n",
              "CNT_PAYMENT                    float64\n",
              "NAME_YIELD_GROUP                object\n",
              "PRODUCT_COMBINATION             object\n",
              "DAYS_FIRST_DRAWING             float64\n",
              "DAYS_FIRST_DUE                 float64\n",
              "DAYS_LAST_DUE_1ST_VERSION      float64\n",
              "DAYS_LAST_DUE                  float64\n",
              "DAYS_TERMINATION               float64\n",
              "NFLAG_INSURED_ON_APPROVAL      float64\n",
              "dtype: object"
            ]
          },
          "metadata": {
            "tags": []
          },
          "execution_count": 13
        }
      ]
    },
    {
      "cell_type": "markdown",
      "metadata": {
        "id": "PZ-iKUwn9CYA",
        "colab_type": "text"
      },
      "source": [
        "Cleanning the Data "
      ]
    },
    {
      "cell_type": "code",
      "metadata": {
        "id": "-Cyrr1ooY95D",
        "colab_type": "code",
        "colab": {}
      },
      "source": [
        "Data8['AMT_ANNUITY'].fillna((Data8['AMT_ANNUITY'].mean()),inplace=True)"
      ],
      "execution_count": 14,
      "outputs": []
    },
    {
      "cell_type": "code",
      "metadata": {
        "id": "EdfEFIZAZuDg",
        "colab_type": "code",
        "colab": {}
      },
      "source": [
        "Data8['AMT_DOWN_PAYMENT'].fillna((Data8['AMT_DOWN_PAYMENT'].mean()),inplace=True)"
      ],
      "execution_count": 15,
      "outputs": []
    },
    {
      "cell_type": "code",
      "metadata": {
        "id": "wJE4woMWaPHq",
        "colab_type": "code",
        "colab": {}
      },
      "source": [
        "Data8['AMT_GOODS_PRICE'].fillna((Data8['AMT_GOODS_PRICE'].mean()),inplace=True)"
      ],
      "execution_count": 16,
      "outputs": []
    },
    {
      "cell_type": "code",
      "metadata": {
        "id": "vzT_wKcLaRQq",
        "colab_type": "code",
        "colab": {}
      },
      "source": [
        "Data8['RATE_DOWN_PAYMENT'].fillna((Data8['RATE_DOWN_PAYMENT'].mean()),inplace=True)"
      ],
      "execution_count": 17,
      "outputs": []
    },
    {
      "cell_type": "code",
      "metadata": {
        "id": "ucIqQ9K3aRVu",
        "colab_type": "code",
        "colab": {}
      },
      "source": [
        "Data8['RATE_INTEREST_PRIMARY'].fillna((Data8['RATE_INTEREST_PRIMARY'].mean()),inplace=True)"
      ],
      "execution_count": 18,
      "outputs": []
    },
    {
      "cell_type": "code",
      "metadata": {
        "id": "1H8km1UWaRaj",
        "colab_type": "code",
        "colab": {}
      },
      "source": [
        "Data8['RATE_INTEREST_PRIVILEGED'].fillna((Data8['RATE_INTEREST_PRIVILEGED'].mean()),inplace=True)"
      ],
      "execution_count": 19,
      "outputs": []
    },
    {
      "cell_type": "code",
      "metadata": {
        "id": "1eR_kh-ibBcB",
        "colab_type": "code",
        "colab": {}
      },
      "source": [
        "Data8['CNT_PAYMENT'].fillna((Data8['CNT_PAYMENT'].mean()),inplace=True)"
      ],
      "execution_count": 20,
      "outputs": []
    },
    {
      "cell_type": "code",
      "metadata": {
        "id": "Fwe97rskbBl9",
        "colab_type": "code",
        "colab": {}
      },
      "source": [
        "Data8['DAYS_FIRST_DRAWING'].fillna((Data8['DAYS_FIRST_DRAWING'].mean()),inplace=True)"
      ],
      "execution_count": 21,
      "outputs": []
    },
    {
      "cell_type": "code",
      "metadata": {
        "id": "r6t1a2Q0bBoz",
        "colab_type": "code",
        "colab": {}
      },
      "source": [
        "Data8['DAYS_FIRST_DUE'].fillna((Data8['DAYS_FIRST_DUE'].mean()),inplace=True)"
      ],
      "execution_count": 22,
      "outputs": []
    },
    {
      "cell_type": "code",
      "metadata": {
        "id": "fNnmfRZobBsH",
        "colab_type": "code",
        "colab": {}
      },
      "source": [
        "Data8['DAYS_LAST_DUE_1ST_VERSION'].fillna((Data8['DAYS_LAST_DUE_1ST_VERSION'].mean()),inplace=True)"
      ],
      "execution_count": 23,
      "outputs": []
    },
    {
      "cell_type": "code",
      "metadata": {
        "id": "O9-Y59g5cFhB",
        "colab_type": "code",
        "colab": {}
      },
      "source": [
        "Data8['DAYS_LAST_DUE'].fillna((Data8['DAYS_LAST_DUE'].mean()),inplace=True)"
      ],
      "execution_count": 24,
      "outputs": []
    },
    {
      "cell_type": "code",
      "metadata": {
        "id": "F5pC5PCvcFsA",
        "colab_type": "code",
        "colab": {}
      },
      "source": [
        "Data8['DAYS_TERMINATION'].fillna((Data8['DAYS_TERMINATION'].mean()),inplace=True)"
      ],
      "execution_count": 25,
      "outputs": []
    },
    {
      "cell_type": "code",
      "metadata": {
        "id": "b4jH8iC4cFvP",
        "colab_type": "code",
        "colab": {}
      },
      "source": [
        "#train8['NFLAG_INSURED_ON_APPROVAL'].fillna((train8['NFLAG_INSURED_ON_APPROVAL'].mean()),inplace=True)"
      ],
      "execution_count": 26,
      "outputs": []
    },
    {
      "cell_type": "code",
      "metadata": {
        "id": "O59---xEcj0G",
        "colab_type": "code",
        "colab": {}
      },
      "source": [
        "Data8['AMT_CREDIT'].fillna((Data8['AMT_CREDIT'].mean()),inplace=True)"
      ],
      "execution_count": 27,
      "outputs": []
    },
    {
      "cell_type": "code",
      "metadata": {
        "id": "0dInftgJcbV3",
        "colab_type": "code",
        "colab": {
          "base_uri": "https://localhost:8080/",
          "height": 686
        },
        "outputId": "6e8dccee-a039-422f-aa5a-92dbc8c5950c"
      },
      "source": [
        "Data8.isnull().sum()"
      ],
      "execution_count": 28,
      "outputs": [
        {
          "output_type": "execute_result",
          "data": {
            "text/plain": [
              "SK_ID_PREV                          0\n",
              "SK_ID_CURR                          0\n",
              "NAME_CONTRACT_TYPE                  0\n",
              "AMT_ANNUITY                         0\n",
              "AMT_APPLICATION                     0\n",
              "AMT_CREDIT                          0\n",
              "AMT_DOWN_PAYMENT                    0\n",
              "AMT_GOODS_PRICE                     0\n",
              "WEEKDAY_APPR_PROCESS_START          0\n",
              "HOUR_APPR_PROCESS_START             0\n",
              "FLAG_LAST_APPL_PER_CONTRACT         0\n",
              "NFLAG_LAST_APPL_IN_DAY              0\n",
              "RATE_DOWN_PAYMENT                   0\n",
              "RATE_INTEREST_PRIMARY               0\n",
              "RATE_INTEREST_PRIVILEGED            0\n",
              "NAME_CASH_LOAN_PURPOSE              0\n",
              "NAME_CONTRACT_STATUS                0\n",
              "DAYS_DECISION                       0\n",
              "NAME_PAYMENT_TYPE                   0\n",
              "CODE_REJECT_REASON                  0\n",
              "NAME_TYPE_SUITE                820405\n",
              "NAME_CLIENT_TYPE                    0\n",
              "NAME_GOODS_CATEGORY                 0\n",
              "NAME_PORTFOLIO                      0\n",
              "NAME_PRODUCT_TYPE                   0\n",
              "CHANNEL_TYPE                        0\n",
              "SELLERPLACE_AREA                    0\n",
              "NAME_SELLER_INDUSTRY                0\n",
              "CNT_PAYMENT                         0\n",
              "NAME_YIELD_GROUP                    0\n",
              "PRODUCT_COMBINATION               346\n",
              "DAYS_FIRST_DRAWING                  0\n",
              "DAYS_FIRST_DUE                      0\n",
              "DAYS_LAST_DUE_1ST_VERSION           0\n",
              "DAYS_LAST_DUE                       0\n",
              "DAYS_TERMINATION                    0\n",
              "NFLAG_INSURED_ON_APPROVAL      673065\n",
              "dtype: int64"
            ]
          },
          "metadata": {
            "tags": []
          },
          "execution_count": 28
        }
      ]
    },
    {
      "cell_type": "code",
      "metadata": {
        "id": "uWbqq5q0cf5i",
        "colab_type": "code",
        "colab": {}
      },
      "source": [
        "Data8['NAME_TYPE_SUITE'].fillna(\"Unknown\",inplace=True)"
      ],
      "execution_count": 29,
      "outputs": []
    },
    {
      "cell_type": "code",
      "metadata": {
        "id": "cXm8jOa3c5OG",
        "colab_type": "code",
        "colab": {}
      },
      "source": [
        "Data8['PRODUCT_COMBINATION'].fillna(\"Unknown\",inplace=True)"
      ],
      "execution_count": 30,
      "outputs": []
    },
    {
      "cell_type": "code",
      "metadata": {
        "id": "nGxdaUdZc9WP",
        "colab_type": "code",
        "colab": {
          "base_uri": "https://localhost:8080/",
          "height": 35
        },
        "outputId": "de92a09a-5e79-4229-f5ac-ba31f8c68cb9"
      },
      "source": [
        "Data8.shape"
      ],
      "execution_count": 31,
      "outputs": [
        {
          "output_type": "execute_result",
          "data": {
            "text/plain": [
              "(1670214, 37)"
            ]
          },
          "metadata": {
            "tags": []
          },
          "execution_count": 31
        }
      ]
    },
    {
      "cell_type": "code",
      "metadata": {
        "id": "vAre2GVDdZ14",
        "colab_type": "code",
        "colab": {
          "base_uri": "https://localhost:8080/",
          "height": 35
        },
        "outputId": "dda182a4-1bde-4086-aeb2-24eb5fa2743b"
      },
      "source": [
        "Appln = pd.get_dummies(Data8)\n",
        "Appln.shape"
      ],
      "execution_count": 32,
      "outputs": [
        {
          "output_type": "execute_result",
          "data": {
            "text/plain": [
              "(1670214, 166)"
            ]
          },
          "metadata": {
            "tags": []
          },
          "execution_count": 32
        }
      ]
    },
    {
      "cell_type": "code",
      "metadata": {
        "id": "Mlmf8tf2dhT5",
        "colab_type": "code",
        "colab": {
          "base_uri": "https://localhost:8080/",
          "height": 286
        },
        "outputId": "391659bf-b57a-47b8-9ed2-232a8c653e9f"
      },
      "source": [
        "Appln.head()"
      ],
      "execution_count": 33,
      "outputs": [
        {
          "output_type": "execute_result",
          "data": {
            "text/html": [
              "<div>\n",
              "<style scoped>\n",
              "    .dataframe tbody tr th:only-of-type {\n",
              "        vertical-align: middle;\n",
              "    }\n",
              "\n",
              "    .dataframe tbody tr th {\n",
              "        vertical-align: top;\n",
              "    }\n",
              "\n",
              "    .dataframe thead th {\n",
              "        text-align: right;\n",
              "    }\n",
              "</style>\n",
              "<table border=\"1\" class=\"dataframe\">\n",
              "  <thead>\n",
              "    <tr style=\"text-align: right;\">\n",
              "      <th></th>\n",
              "      <th>SK_ID_PREV</th>\n",
              "      <th>SK_ID_CURR</th>\n",
              "      <th>AMT_ANNUITY</th>\n",
              "      <th>AMT_APPLICATION</th>\n",
              "      <th>AMT_CREDIT</th>\n",
              "      <th>AMT_DOWN_PAYMENT</th>\n",
              "      <th>AMT_GOODS_PRICE</th>\n",
              "      <th>HOUR_APPR_PROCESS_START</th>\n",
              "      <th>NFLAG_LAST_APPL_IN_DAY</th>\n",
              "      <th>RATE_DOWN_PAYMENT</th>\n",
              "      <th>RATE_INTEREST_PRIMARY</th>\n",
              "      <th>RATE_INTEREST_PRIVILEGED</th>\n",
              "      <th>DAYS_DECISION</th>\n",
              "      <th>SELLERPLACE_AREA</th>\n",
              "      <th>CNT_PAYMENT</th>\n",
              "      <th>DAYS_FIRST_DRAWING</th>\n",
              "      <th>DAYS_FIRST_DUE</th>\n",
              "      <th>DAYS_LAST_DUE_1ST_VERSION</th>\n",
              "      <th>DAYS_LAST_DUE</th>\n",
              "      <th>DAYS_TERMINATION</th>\n",
              "      <th>NFLAG_INSURED_ON_APPROVAL</th>\n",
              "      <th>NAME_CONTRACT_TYPE_Cash loans</th>\n",
              "      <th>NAME_CONTRACT_TYPE_Consumer loans</th>\n",
              "      <th>NAME_CONTRACT_TYPE_Revolving loans</th>\n",
              "      <th>NAME_CONTRACT_TYPE_XNA</th>\n",
              "      <th>WEEKDAY_APPR_PROCESS_START_FRIDAY</th>\n",
              "      <th>WEEKDAY_APPR_PROCESS_START_MONDAY</th>\n",
              "      <th>WEEKDAY_APPR_PROCESS_START_SATURDAY</th>\n",
              "      <th>WEEKDAY_APPR_PROCESS_START_SUNDAY</th>\n",
              "      <th>WEEKDAY_APPR_PROCESS_START_THURSDAY</th>\n",
              "      <th>WEEKDAY_APPR_PROCESS_START_TUESDAY</th>\n",
              "      <th>WEEKDAY_APPR_PROCESS_START_WEDNESDAY</th>\n",
              "      <th>FLAG_LAST_APPL_PER_CONTRACT_N</th>\n",
              "      <th>FLAG_LAST_APPL_PER_CONTRACT_Y</th>\n",
              "      <th>NAME_CASH_LOAN_PURPOSE_Building a house or an annex</th>\n",
              "      <th>NAME_CASH_LOAN_PURPOSE_Business development</th>\n",
              "      <th>NAME_CASH_LOAN_PURPOSE_Buying a garage</th>\n",
              "      <th>NAME_CASH_LOAN_PURPOSE_Buying a holiday home / land</th>\n",
              "      <th>NAME_CASH_LOAN_PURPOSE_Buying a home</th>\n",
              "      <th>NAME_CASH_LOAN_PURPOSE_Buying a new car</th>\n",
              "      <th>...</th>\n",
              "      <th>CHANNEL_TYPE_Channel of corporate sales</th>\n",
              "      <th>CHANNEL_TYPE_Contact center</th>\n",
              "      <th>CHANNEL_TYPE_Country-wide</th>\n",
              "      <th>CHANNEL_TYPE_Credit and cash offices</th>\n",
              "      <th>CHANNEL_TYPE_Regional / Local</th>\n",
              "      <th>CHANNEL_TYPE_Stone</th>\n",
              "      <th>NAME_SELLER_INDUSTRY_Auto technology</th>\n",
              "      <th>NAME_SELLER_INDUSTRY_Clothing</th>\n",
              "      <th>NAME_SELLER_INDUSTRY_Connectivity</th>\n",
              "      <th>NAME_SELLER_INDUSTRY_Construction</th>\n",
              "      <th>NAME_SELLER_INDUSTRY_Consumer electronics</th>\n",
              "      <th>NAME_SELLER_INDUSTRY_Furniture</th>\n",
              "      <th>NAME_SELLER_INDUSTRY_Industry</th>\n",
              "      <th>NAME_SELLER_INDUSTRY_Jewelry</th>\n",
              "      <th>NAME_SELLER_INDUSTRY_MLM partners</th>\n",
              "      <th>NAME_SELLER_INDUSTRY_Tourism</th>\n",
              "      <th>NAME_SELLER_INDUSTRY_XNA</th>\n",
              "      <th>NAME_YIELD_GROUP_XNA</th>\n",
              "      <th>NAME_YIELD_GROUP_high</th>\n",
              "      <th>NAME_YIELD_GROUP_low_action</th>\n",
              "      <th>NAME_YIELD_GROUP_low_normal</th>\n",
              "      <th>NAME_YIELD_GROUP_middle</th>\n",
              "      <th>PRODUCT_COMBINATION_Card Street</th>\n",
              "      <th>PRODUCT_COMBINATION_Card X-Sell</th>\n",
              "      <th>PRODUCT_COMBINATION_Cash</th>\n",
              "      <th>PRODUCT_COMBINATION_Cash Street: high</th>\n",
              "      <th>PRODUCT_COMBINATION_Cash Street: low</th>\n",
              "      <th>PRODUCT_COMBINATION_Cash Street: middle</th>\n",
              "      <th>PRODUCT_COMBINATION_Cash X-Sell: high</th>\n",
              "      <th>PRODUCT_COMBINATION_Cash X-Sell: low</th>\n",
              "      <th>PRODUCT_COMBINATION_Cash X-Sell: middle</th>\n",
              "      <th>PRODUCT_COMBINATION_POS household with interest</th>\n",
              "      <th>PRODUCT_COMBINATION_POS household without interest</th>\n",
              "      <th>PRODUCT_COMBINATION_POS industry with interest</th>\n",
              "      <th>PRODUCT_COMBINATION_POS industry without interest</th>\n",
              "      <th>PRODUCT_COMBINATION_POS mobile with interest</th>\n",
              "      <th>PRODUCT_COMBINATION_POS mobile without interest</th>\n",
              "      <th>PRODUCT_COMBINATION_POS other with interest</th>\n",
              "      <th>PRODUCT_COMBINATION_POS others without interest</th>\n",
              "      <th>PRODUCT_COMBINATION_Unknown</th>\n",
              "    </tr>\n",
              "  </thead>\n",
              "  <tbody>\n",
              "    <tr>\n",
              "      <th>0</th>\n",
              "      <td>2030495</td>\n",
              "      <td>271877</td>\n",
              "      <td>1730.430</td>\n",
              "      <td>17145.0</td>\n",
              "      <td>17145.0</td>\n",
              "      <td>0.000000</td>\n",
              "      <td>17145.0</td>\n",
              "      <td>15</td>\n",
              "      <td>1</td>\n",
              "      <td>0.000000</td>\n",
              "      <td>0.182832</td>\n",
              "      <td>0.867336</td>\n",
              "      <td>-73</td>\n",
              "      <td>35</td>\n",
              "      <td>12.0</td>\n",
              "      <td>365243.000000</td>\n",
              "      <td>-42.000000</td>\n",
              "      <td>300.000000</td>\n",
              "      <td>-42.000000</td>\n",
              "      <td>-37.000000</td>\n",
              "      <td>0.0</td>\n",
              "      <td>0</td>\n",
              "      <td>1</td>\n",
              "      <td>0</td>\n",
              "      <td>0</td>\n",
              "      <td>0</td>\n",
              "      <td>0</td>\n",
              "      <td>1</td>\n",
              "      <td>0</td>\n",
              "      <td>0</td>\n",
              "      <td>0</td>\n",
              "      <td>0</td>\n",
              "      <td>0</td>\n",
              "      <td>1</td>\n",
              "      <td>0</td>\n",
              "      <td>0</td>\n",
              "      <td>0</td>\n",
              "      <td>0</td>\n",
              "      <td>0</td>\n",
              "      <td>0</td>\n",
              "      <td>...</td>\n",
              "      <td>0</td>\n",
              "      <td>0</td>\n",
              "      <td>1</td>\n",
              "      <td>0</td>\n",
              "      <td>0</td>\n",
              "      <td>0</td>\n",
              "      <td>0</td>\n",
              "      <td>0</td>\n",
              "      <td>1</td>\n",
              "      <td>0</td>\n",
              "      <td>0</td>\n",
              "      <td>0</td>\n",
              "      <td>0</td>\n",
              "      <td>0</td>\n",
              "      <td>0</td>\n",
              "      <td>0</td>\n",
              "      <td>0</td>\n",
              "      <td>0</td>\n",
              "      <td>0</td>\n",
              "      <td>0</td>\n",
              "      <td>0</td>\n",
              "      <td>1</td>\n",
              "      <td>0</td>\n",
              "      <td>0</td>\n",
              "      <td>0</td>\n",
              "      <td>0</td>\n",
              "      <td>0</td>\n",
              "      <td>0</td>\n",
              "      <td>0</td>\n",
              "      <td>0</td>\n",
              "      <td>0</td>\n",
              "      <td>0</td>\n",
              "      <td>0</td>\n",
              "      <td>0</td>\n",
              "      <td>0</td>\n",
              "      <td>1</td>\n",
              "      <td>0</td>\n",
              "      <td>0</td>\n",
              "      <td>0</td>\n",
              "      <td>0</td>\n",
              "    </tr>\n",
              "    <tr>\n",
              "      <th>1</th>\n",
              "      <td>2802425</td>\n",
              "      <td>108129</td>\n",
              "      <td>25188.615</td>\n",
              "      <td>607500.0</td>\n",
              "      <td>679671.0</td>\n",
              "      <td>6697.402139</td>\n",
              "      <td>607500.0</td>\n",
              "      <td>11</td>\n",
              "      <td>1</td>\n",
              "      <td>0.079637</td>\n",
              "      <td>0.188357</td>\n",
              "      <td>0.773503</td>\n",
              "      <td>-164</td>\n",
              "      <td>-1</td>\n",
              "      <td>36.0</td>\n",
              "      <td>365243.000000</td>\n",
              "      <td>-134.000000</td>\n",
              "      <td>916.000000</td>\n",
              "      <td>365243.000000</td>\n",
              "      <td>365243.000000</td>\n",
              "      <td>1.0</td>\n",
              "      <td>1</td>\n",
              "      <td>0</td>\n",
              "      <td>0</td>\n",
              "      <td>0</td>\n",
              "      <td>0</td>\n",
              "      <td>0</td>\n",
              "      <td>0</td>\n",
              "      <td>0</td>\n",
              "      <td>1</td>\n",
              "      <td>0</td>\n",
              "      <td>0</td>\n",
              "      <td>0</td>\n",
              "      <td>1</td>\n",
              "      <td>0</td>\n",
              "      <td>0</td>\n",
              "      <td>0</td>\n",
              "      <td>0</td>\n",
              "      <td>0</td>\n",
              "      <td>0</td>\n",
              "      <td>...</td>\n",
              "      <td>0</td>\n",
              "      <td>1</td>\n",
              "      <td>0</td>\n",
              "      <td>0</td>\n",
              "      <td>0</td>\n",
              "      <td>0</td>\n",
              "      <td>0</td>\n",
              "      <td>0</td>\n",
              "      <td>0</td>\n",
              "      <td>0</td>\n",
              "      <td>0</td>\n",
              "      <td>0</td>\n",
              "      <td>0</td>\n",
              "      <td>0</td>\n",
              "      <td>0</td>\n",
              "      <td>0</td>\n",
              "      <td>1</td>\n",
              "      <td>0</td>\n",
              "      <td>0</td>\n",
              "      <td>1</td>\n",
              "      <td>0</td>\n",
              "      <td>0</td>\n",
              "      <td>0</td>\n",
              "      <td>0</td>\n",
              "      <td>0</td>\n",
              "      <td>0</td>\n",
              "      <td>0</td>\n",
              "      <td>0</td>\n",
              "      <td>0</td>\n",
              "      <td>1</td>\n",
              "      <td>0</td>\n",
              "      <td>0</td>\n",
              "      <td>0</td>\n",
              "      <td>0</td>\n",
              "      <td>0</td>\n",
              "      <td>0</td>\n",
              "      <td>0</td>\n",
              "      <td>0</td>\n",
              "      <td>0</td>\n",
              "      <td>0</td>\n",
              "    </tr>\n",
              "    <tr>\n",
              "      <th>2</th>\n",
              "      <td>2523466</td>\n",
              "      <td>122040</td>\n",
              "      <td>15060.735</td>\n",
              "      <td>112500.0</td>\n",
              "      <td>136444.5</td>\n",
              "      <td>6697.402139</td>\n",
              "      <td>112500.0</td>\n",
              "      <td>11</td>\n",
              "      <td>1</td>\n",
              "      <td>0.079637</td>\n",
              "      <td>0.188357</td>\n",
              "      <td>0.773503</td>\n",
              "      <td>-301</td>\n",
              "      <td>-1</td>\n",
              "      <td>12.0</td>\n",
              "      <td>365243.000000</td>\n",
              "      <td>-271.000000</td>\n",
              "      <td>59.000000</td>\n",
              "      <td>365243.000000</td>\n",
              "      <td>365243.000000</td>\n",
              "      <td>1.0</td>\n",
              "      <td>1</td>\n",
              "      <td>0</td>\n",
              "      <td>0</td>\n",
              "      <td>0</td>\n",
              "      <td>0</td>\n",
              "      <td>0</td>\n",
              "      <td>0</td>\n",
              "      <td>0</td>\n",
              "      <td>0</td>\n",
              "      <td>1</td>\n",
              "      <td>0</td>\n",
              "      <td>0</td>\n",
              "      <td>1</td>\n",
              "      <td>0</td>\n",
              "      <td>0</td>\n",
              "      <td>0</td>\n",
              "      <td>0</td>\n",
              "      <td>0</td>\n",
              "      <td>0</td>\n",
              "      <td>...</td>\n",
              "      <td>0</td>\n",
              "      <td>0</td>\n",
              "      <td>0</td>\n",
              "      <td>1</td>\n",
              "      <td>0</td>\n",
              "      <td>0</td>\n",
              "      <td>0</td>\n",
              "      <td>0</td>\n",
              "      <td>0</td>\n",
              "      <td>0</td>\n",
              "      <td>0</td>\n",
              "      <td>0</td>\n",
              "      <td>0</td>\n",
              "      <td>0</td>\n",
              "      <td>0</td>\n",
              "      <td>0</td>\n",
              "      <td>1</td>\n",
              "      <td>0</td>\n",
              "      <td>1</td>\n",
              "      <td>0</td>\n",
              "      <td>0</td>\n",
              "      <td>0</td>\n",
              "      <td>0</td>\n",
              "      <td>0</td>\n",
              "      <td>0</td>\n",
              "      <td>0</td>\n",
              "      <td>0</td>\n",
              "      <td>0</td>\n",
              "      <td>1</td>\n",
              "      <td>0</td>\n",
              "      <td>0</td>\n",
              "      <td>0</td>\n",
              "      <td>0</td>\n",
              "      <td>0</td>\n",
              "      <td>0</td>\n",
              "      <td>0</td>\n",
              "      <td>0</td>\n",
              "      <td>0</td>\n",
              "      <td>0</td>\n",
              "      <td>0</td>\n",
              "    </tr>\n",
              "    <tr>\n",
              "      <th>3</th>\n",
              "      <td>2819243</td>\n",
              "      <td>176158</td>\n",
              "      <td>47041.335</td>\n",
              "      <td>450000.0</td>\n",
              "      <td>470790.0</td>\n",
              "      <td>6697.402139</td>\n",
              "      <td>450000.0</td>\n",
              "      <td>7</td>\n",
              "      <td>1</td>\n",
              "      <td>0.079637</td>\n",
              "      <td>0.188357</td>\n",
              "      <td>0.773503</td>\n",
              "      <td>-512</td>\n",
              "      <td>-1</td>\n",
              "      <td>12.0</td>\n",
              "      <td>365243.000000</td>\n",
              "      <td>-482.000000</td>\n",
              "      <td>-152.000000</td>\n",
              "      <td>-182.000000</td>\n",
              "      <td>-177.000000</td>\n",
              "      <td>1.0</td>\n",
              "      <td>1</td>\n",
              "      <td>0</td>\n",
              "      <td>0</td>\n",
              "      <td>0</td>\n",
              "      <td>0</td>\n",
              "      <td>1</td>\n",
              "      <td>0</td>\n",
              "      <td>0</td>\n",
              "      <td>0</td>\n",
              "      <td>0</td>\n",
              "      <td>0</td>\n",
              "      <td>0</td>\n",
              "      <td>1</td>\n",
              "      <td>0</td>\n",
              "      <td>0</td>\n",
              "      <td>0</td>\n",
              "      <td>0</td>\n",
              "      <td>0</td>\n",
              "      <td>0</td>\n",
              "      <td>...</td>\n",
              "      <td>0</td>\n",
              "      <td>0</td>\n",
              "      <td>0</td>\n",
              "      <td>1</td>\n",
              "      <td>0</td>\n",
              "      <td>0</td>\n",
              "      <td>0</td>\n",
              "      <td>0</td>\n",
              "      <td>0</td>\n",
              "      <td>0</td>\n",
              "      <td>0</td>\n",
              "      <td>0</td>\n",
              "      <td>0</td>\n",
              "      <td>0</td>\n",
              "      <td>0</td>\n",
              "      <td>0</td>\n",
              "      <td>1</td>\n",
              "      <td>0</td>\n",
              "      <td>0</td>\n",
              "      <td>0</td>\n",
              "      <td>0</td>\n",
              "      <td>1</td>\n",
              "      <td>0</td>\n",
              "      <td>0</td>\n",
              "      <td>0</td>\n",
              "      <td>0</td>\n",
              "      <td>0</td>\n",
              "      <td>0</td>\n",
              "      <td>0</td>\n",
              "      <td>0</td>\n",
              "      <td>1</td>\n",
              "      <td>0</td>\n",
              "      <td>0</td>\n",
              "      <td>0</td>\n",
              "      <td>0</td>\n",
              "      <td>0</td>\n",
              "      <td>0</td>\n",
              "      <td>0</td>\n",
              "      <td>0</td>\n",
              "      <td>0</td>\n",
              "    </tr>\n",
              "    <tr>\n",
              "      <th>4</th>\n",
              "      <td>1784265</td>\n",
              "      <td>202054</td>\n",
              "      <td>31924.395</td>\n",
              "      <td>337500.0</td>\n",
              "      <td>404055.0</td>\n",
              "      <td>6697.402139</td>\n",
              "      <td>337500.0</td>\n",
              "      <td>9</td>\n",
              "      <td>1</td>\n",
              "      <td>0.079637</td>\n",
              "      <td>0.188357</td>\n",
              "      <td>0.773503</td>\n",
              "      <td>-781</td>\n",
              "      <td>-1</td>\n",
              "      <td>24.0</td>\n",
              "      <td>342209.855039</td>\n",
              "      <td>13826.269337</td>\n",
              "      <td>33767.774054</td>\n",
              "      <td>76582.403064</td>\n",
              "      <td>81992.343838</td>\n",
              "      <td>NaN</td>\n",
              "      <td>1</td>\n",
              "      <td>0</td>\n",
              "      <td>0</td>\n",
              "      <td>0</td>\n",
              "      <td>0</td>\n",
              "      <td>0</td>\n",
              "      <td>0</td>\n",
              "      <td>0</td>\n",
              "      <td>1</td>\n",
              "      <td>0</td>\n",
              "      <td>0</td>\n",
              "      <td>0</td>\n",
              "      <td>1</td>\n",
              "      <td>0</td>\n",
              "      <td>0</td>\n",
              "      <td>0</td>\n",
              "      <td>0</td>\n",
              "      <td>0</td>\n",
              "      <td>0</td>\n",
              "      <td>...</td>\n",
              "      <td>0</td>\n",
              "      <td>0</td>\n",
              "      <td>0</td>\n",
              "      <td>1</td>\n",
              "      <td>0</td>\n",
              "      <td>0</td>\n",
              "      <td>0</td>\n",
              "      <td>0</td>\n",
              "      <td>0</td>\n",
              "      <td>0</td>\n",
              "      <td>0</td>\n",
              "      <td>0</td>\n",
              "      <td>0</td>\n",
              "      <td>0</td>\n",
              "      <td>0</td>\n",
              "      <td>0</td>\n",
              "      <td>1</td>\n",
              "      <td>0</td>\n",
              "      <td>1</td>\n",
              "      <td>0</td>\n",
              "      <td>0</td>\n",
              "      <td>0</td>\n",
              "      <td>0</td>\n",
              "      <td>0</td>\n",
              "      <td>0</td>\n",
              "      <td>1</td>\n",
              "      <td>0</td>\n",
              "      <td>0</td>\n",
              "      <td>0</td>\n",
              "      <td>0</td>\n",
              "      <td>0</td>\n",
              "      <td>0</td>\n",
              "      <td>0</td>\n",
              "      <td>0</td>\n",
              "      <td>0</td>\n",
              "      <td>0</td>\n",
              "      <td>0</td>\n",
              "      <td>0</td>\n",
              "      <td>0</td>\n",
              "      <td>0</td>\n",
              "    </tr>\n",
              "  </tbody>\n",
              "</table>\n",
              "<p>5 rows × 166 columns</p>\n",
              "</div>"
            ],
            "text/plain": [
              "   SK_ID_PREV  ...  PRODUCT_COMBINATION_Unknown\n",
              "0     2030495  ...                            0\n",
              "1     2802425  ...                            0\n",
              "2     2523466  ...                            0\n",
              "3     2819243  ...                            0\n",
              "4     1784265  ...                            0\n",
              "\n",
              "[5 rows x 166 columns]"
            ]
          },
          "metadata": {
            "tags": []
          },
          "execution_count": 33
        }
      ]
    },
    {
      "cell_type": "code",
      "metadata": {
        "id": "0qOiQLVedlrG",
        "colab_type": "code",
        "colab": {
          "base_uri": "https://localhost:8080/",
          "height": 35
        },
        "outputId": "6bc17feb-9bf3-4299-94e8-1b9af3b96aea"
      },
      "source": [
        "X = Appln[Appln['NFLAG_INSURED_ON_APPROVAL'].isnull()!=True].drop(['SK_ID_PREV','SK_ID_CURR','NFLAG_INSURED_ON_APPROVAL'], axis=1)\n",
        "y = Appln[Appln['NFLAG_INSURED_ON_APPROVAL'].isnull()!=True]['NFLAG_INSURED_ON_APPROVAL']\n",
        "\n",
        "X_test = Appln[Appln['NFLAG_INSURED_ON_APPROVAL'].isnull()==True].drop(['SK_ID_PREV','SK_ID_CURR','NFLAG_INSURED_ON_APPROVAL'], axis=1)\n",
        "\n",
        "X.shape, y.shape, X_test.shape"
      ],
      "execution_count": 34,
      "outputs": [
        {
          "output_type": "execute_result",
          "data": {
            "text/plain": [
              "((997149, 163), (997149,), (673065, 163))"
            ]
          },
          "metadata": {
            "tags": []
          },
          "execution_count": 34
        }
      ]
    },
    {
      "cell_type": "code",
      "metadata": {
        "id": "mEGYQZO4hDwp",
        "colab_type": "code",
        "colab": {}
      },
      "source": [
        "from sklearn.model_selection import train_test_split\n",
        "x_train, x_val, y_train, y_val = train_test_split(X, y, test_size=0.2)"
      ],
      "execution_count": 35,
      "outputs": []
    },
    {
      "cell_type": "markdown",
      "metadata": {
        "id": "IWTU_JBcAg-J",
        "colab_type": "text"
      },
      "source": [
        "RandomForest"
      ]
    },
    {
      "cell_type": "code",
      "metadata": {
        "id": "gzeMbI6Wnrj1",
        "colab_type": "code",
        "colab": {}
      },
      "source": [
        "from sklearn.ensemble import RandomForestClassifier\n",
        "\n",
        "clf=RandomForestClassifier(n_estimators=100)\n",
        "\n",
        "clf.fit(x_train,y_train)\n",
        "\n",
        "y_pred=clf.predict(x_val)"
      ],
      "execution_count": 36,
      "outputs": []
    },
    {
      "cell_type": "code",
      "metadata": {
        "id": "66VZKfETn2en",
        "colab_type": "code",
        "colab": {
          "base_uri": "https://localhost:8080/",
          "height": 35
        },
        "outputId": "0bedab5e-eded-440c-bff9-6869ef362d9f"
      },
      "source": [
        "from sklearn import metrics\n",
        "print(\"Accuracy:\",metrics.accuracy_score(y_val, y_pred))"
      ],
      "execution_count": 37,
      "outputs": [
        {
          "output_type": "stream",
          "text": [
            "Accuracy: 0.9219224790653362\n"
          ],
          "name": "stdout"
        }
      ]
    },
    {
      "cell_type": "markdown",
      "metadata": {
        "id": "QWg-1gtdAl5t",
        "colab_type": "text"
      },
      "source": [
        "XGBoost"
      ]
    },
    {
      "cell_type": "code",
      "metadata": {
        "id": "gIAI8pfq4qlH",
        "colab_type": "code",
        "colab": {
          "base_uri": "https://localhost:8080/",
          "height": 70
        },
        "outputId": "1c8e5fd0-7a6c-401a-8933-23df97a96813"
      },
      "source": [
        "pip install xgboost"
      ],
      "execution_count": 38,
      "outputs": [
        {
          "output_type": "stream",
          "text": [
            "Requirement already satisfied: xgboost in /usr/local/lib/python3.6/dist-packages (0.90)\n",
            "Requirement already satisfied: scipy in /usr/local/lib/python3.6/dist-packages (from xgboost) (1.4.1)\n",
            "Requirement already satisfied: numpy in /usr/local/lib/python3.6/dist-packages (from xgboost) (1.18.5)\n"
          ],
          "name": "stdout"
        }
      ]
    },
    {
      "cell_type": "code",
      "metadata": {
        "id": "aKf1Z9W34jPP",
        "colab_type": "code",
        "colab": {}
      },
      "source": [
        "import xgboost as xgb\n",
        "from sklearn.metrics import mean_squared_error\n",
        "\n",
        "data_dmatrix = xgb.DMatrix(data=X,label=y)"
      ],
      "execution_count": 39,
      "outputs": []
    },
    {
      "cell_type": "code",
      "metadata": {
        "id": "s4i4kRgg789w",
        "colab_type": "code",
        "colab": {}
      },
      "source": [
        "xg_reg = xgb.XGBRegressor(objective ='reg:linear', colsample_bytree = 0.3, learning_rate = 0.1,max_depth = 5, alpha = 10, n_estimators = 10)"
      ],
      "execution_count": 40,
      "outputs": []
    },
    {
      "cell_type": "code",
      "metadata": {
        "id": "6zZlo0-6-Clr",
        "colab_type": "code",
        "colab": {
          "base_uri": "https://localhost:8080/",
          "height": 35
        },
        "outputId": "8e92c9bf-a365-4ee8-d159-f664cab7c6b1"
      },
      "source": [
        "xg_reg.fit(x_train,y_train)\n",
        "\n",
        "y_pred1 = xg_reg.predict(x_val)"
      ],
      "execution_count": 41,
      "outputs": [
        {
          "output_type": "stream",
          "text": [
            "[17:27:08] WARNING: /workspace/src/objective/regression_obj.cu:152: reg:linear is now deprecated in favor of reg:squarederror.\n"
          ],
          "name": "stdout"
        }
      ]
    },
    {
      "cell_type": "code",
      "metadata": {
        "id": "-b-pz8Ap-EtC",
        "colab_type": "code",
        "colab": {
          "base_uri": "https://localhost:8080/",
          "height": 35
        },
        "outputId": "097eb0ef-b443-4de6-f255-fc4bf880621a"
      },
      "source": [
        "import numpy as np\n",
        "rmse = np.sqrt(mean_squared_error(y_val, y_pred1))\n",
        "print(\"RMSE: %f\" % (rmse))"
      ],
      "execution_count": 43,
      "outputs": [
        {
          "output_type": "stream",
          "text": [
            "RMSE: 0.327874\n"
          ],
          "name": "stdout"
        }
      ]
    },
    {
      "cell_type": "code",
      "metadata": {
        "id": "ftc5F98P-qfU",
        "colab_type": "code",
        "colab": {
          "base_uri": "https://localhost:8080/",
          "height": 35
        },
        "outputId": "6a7ba9d7-d638-4cf4-c864-4f0479e12bc7"
      },
      "source": [
        "import numpy as np\n",
        "from sklearn.metrics import roc_auc_score\n",
        "score_ = roc_auc_score(y_val,y_pred1)\n",
        "score_"
      ],
      "execution_count": 45,
      "outputs": [
        {
          "output_type": "execute_result",
          "data": {
            "text/plain": [
              "0.952938977414818"
            ]
          },
          "metadata": {
            "tags": []
          },
          "execution_count": 45
        }
      ]
    },
    {
      "cell_type": "code",
      "metadata": {
        "id": "cKlnPOGnBU7n",
        "colab_type": "code",
        "colab": {}
      },
      "source": [
        ""
      ],
      "execution_count": null,
      "outputs": []
    }
  ]
}